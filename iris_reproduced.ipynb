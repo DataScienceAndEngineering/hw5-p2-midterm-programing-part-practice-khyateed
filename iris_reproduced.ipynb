{
 "cells": [
  {
   "cell_type": "markdown",
   "metadata": {},
   "source": [
    "### HW: Reproduction of [Iris neural network notebook](https://github.com/abhimishra91/pytorch-tutorials/blob/master/lecture_08_a.ipynb)\n",
    "Khyatee Desai"
   ]
  },
  {
   "cell_type": "code",
   "execution_count": 1,
   "metadata": {},
   "outputs": [],
   "source": [
    "import pandas as pd\n",
    "import numpy as np\n",
    "import torch\n",
    "from torch.utils.data import DataLoader, Dataset"
   ]
  },
  {
   "cell_type": "code",
   "execution_count": 4,
   "metadata": {},
   "outputs": [
    {
     "data": {
      "text/plain": [
       "(150, 4)"
      ]
     },
     "execution_count": 4,
     "metadata": {},
     "output_type": "execute_result"
    }
   ],
   "source": [
    "df = pd.read_csv('iris.csv')\n",
    "X = df.iloc[:,0:-1].to_numpy()\n",
    "X.shape"
   ]
  },
  {
   "cell_type": "code",
   "execution_count": 38,
   "metadata": {},
   "outputs": [],
   "source": [
    "class Model(torch.nn.Module):\n",
    "    \n",
    "    def __init__(self):\n",
    "\n",
    "        super(Model, self).__init__()\n",
    "        self.linear1 = torch.nn.Linear(4, 10)\n",
    "        self.linear2 = torch.nn.Linear(10, 8)\n",
    "        self.linear3 = torch.nn.Linear(8, 3)\n",
    "        \n",
    "        self.softmax = torch.nn.Softmax()\n",
    "        \n",
    "    def forward(self, x):\n",
    "\n",
    "        act1 = self.softmax(self.linear1(x))\n",
    "        act2 = self.softmax(self.linear2(act1))\n",
    "        y_pred = self.softmax(self.linear3(act2))\n",
    "        \n",
    "        return y_pred"
   ]
  },
  {
   "cell_type": "code",
   "execution_count": 39,
   "metadata": {},
   "outputs": [],
   "source": [
    "class Dataset(Dataset):\n",
    "    \n",
    "    def __init__(self):\n",
    "        df = pd.read_csv('iris.csv')\n",
    "        self.len = df.shape[0]\n",
    "        self.x_data = torch.from_numpy(df.iloc[:,0:-1].to_numpy(dtype=np.float32))\n",
    "        self.y_data = torch.from_numpy((pd.get_dummies(df.iloc[:,-1])).values.argmax(1))\n",
    "        \n",
    "    def __getitem__(self, index):\n",
    "        return self.x_data[index], self.y_data[index]\n",
    "    \n",
    "    def __len__(self):\n",
    "        return self.len       "
   ]
  },
  {
   "cell_type": "code",
   "execution_count": 40,
   "metadata": {},
   "outputs": [],
   "source": [
    "model = Model()\n",
    "my_dataset = Dataset()"
   ]
  },
  {
   "cell_type": "code",
   "execution_count": 42,
   "metadata": {},
   "outputs": [],
   "source": [
    "loader = DataLoader(dataset = my_dataset, batch_size=16, shuffle=True, num_workers=0)"
   ]
  },
  {
   "cell_type": "code",
   "execution_count": 44,
   "metadata": {},
   "outputs": [],
   "source": [
    "loss_func = torch.nn.CrossEntropyLoss(reduction='mean')\n",
    "sgd = torch.optim.SGD(model.parameters(), lr = 0.05)"
   ]
  },
  {
   "cell_type": "code",
   "execution_count": 46,
   "metadata": {},
   "outputs": [
    {
     "name": "stdout",
     "output_type": "stream",
     "text": [
      "Epoch: 0, Loss: 1.1128824949264526\n",
      "Epoch: 0, Loss: 1.0910083055496216\n",
      "Epoch: 0, Loss: 1.0946968793869019\n",
      "Epoch: 0, Loss: 1.1070327758789062\n",
      "Epoch: 0, Loss: 1.1144564151763916\n",
      "Epoch: 0, Loss: 1.1086921691894531\n",
      "Epoch: 0, Loss: 1.104039192199707\n",
      "Epoch: 0, Loss: 1.0940165519714355\n",
      "Epoch: 0, Loss: 1.072105884552002\n",
      "Epoch: 0, Loss: 1.0996938943862915\n",
      "Epoch: 1, Loss: 1.0947415828704834\n",
      "Epoch: 1, Loss: 1.1173428297042847\n",
      "Epoch: 1, Loss: 1.1204630136489868\n",
      "Epoch: 1, Loss: 1.1011502742767334\n",
      "Epoch: 1, Loss: 1.0957368612289429\n",
      "Epoch: 1, Loss: 1.0716533660888672\n",
      "Epoch: 1, Loss: 1.1046689748764038\n",
      "Epoch: 1, Loss: 1.0956851243972778\n",
      "Epoch: 1, Loss: 1.0977638959884644\n",
      "Epoch: 1, Loss: 1.0996863842010498\n",
      "Epoch: 2, Loss: 1.102105975151062\n",
      "Epoch: 2, Loss: 1.1184306144714355\n",
      "Epoch: 2, Loss: 1.0790075063705444\n",
      "Epoch: 2, Loss: 1.1011148691177368\n",
      "Epoch: 2, Loss: 1.1020481586456299\n",
      "Epoch: 2, Loss: 1.107372760772705\n",
      "Epoch: 2, Loss: 1.1029293537139893\n",
      "Epoch: 2, Loss: 1.1002064943313599\n",
      "Epoch: 2, Loss: 1.0834453105926514\n",
      "Epoch: 2, Loss: 1.1022416353225708\n"
     ]
    }
   ],
   "source": [
    "for epoch in range(3):\n",
    "    for _, data in enumerate(loader, 0):\n",
    "\n",
    "        inputs, targets = data\n",
    "\n",
    "        y_pred = model(inputs)\n",
    "\n",
    "        loss = loss_func(y_pred, targets)\n",
    "        print(f'Epoch: {epoch}, Loss: {loss}')\n",
    "        \n",
    "        sgd.zero_grad()\n",
    "        loss.backward()\n",
    "        sgd.step()\n",
    "        "
   ]
  },
  {
   "cell_type": "code",
   "execution_count": null,
   "metadata": {},
   "outputs": [],
   "source": []
  }
 ],
 "metadata": {
  "kernelspec": {
   "display_name": "Python 3 (ipykernel)",
   "language": "python",
   "name": "python3"
  },
  "language_info": {
   "codemirror_mode": {
    "name": "ipython",
    "version": 3
   },
   "file_extension": ".py",
   "mimetype": "text/x-python",
   "name": "python",
   "nbconvert_exporter": "python",
   "pygments_lexer": "ipython3",
   "version": "3.12.2"
  }
 },
 "nbformat": 4,
 "nbformat_minor": 4
}
